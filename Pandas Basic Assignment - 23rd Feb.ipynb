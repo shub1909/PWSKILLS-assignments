{
 "cells": [
  {
   "cell_type": "markdown",
   "id": "d228a9bd-93fc-460d-95d1-7f2f8ca1cb01",
   "metadata": {},
   "source": [
    "Q1. Create a Pandas Series that contains the following data: 4, 8, 15, 16, 23, and 42. Then, print the series."
   ]
  },
  {
   "cell_type": "code",
   "execution_count": 1,
   "id": "43b4ef50-7417-4b84-9951-280ce8e5820c",
   "metadata": {},
   "outputs": [],
   "source": [
    "import pandas as pd"
   ]
  },
  {
   "cell_type": "code",
   "execution_count": 2,
   "id": "66893abc-b4fd-422f-94bd-ce0e0857d955",
   "metadata": {},
   "outputs": [],
   "source": [
    "##creating pandas series\n",
    "\n",
    "data = [4,8,15,16,23,42]"
   ]
  },
  {
   "cell_type": "code",
   "execution_count": 3,
   "id": "0102f478-9f0a-4d1e-95a4-6ba7300fc795",
   "metadata": {},
   "outputs": [],
   "source": [
    "my_series = pd.Series(data)"
   ]
  },
  {
   "cell_type": "code",
   "execution_count": 4,
   "id": "b7468460-2304-4523-b9ca-ebe1955f9ae6",
   "metadata": {},
   "outputs": [
    {
     "name": "stdout",
     "output_type": "stream",
     "text": [
      "0     4\n",
      "1     8\n",
      "2    15\n",
      "3    16\n",
      "4    23\n",
      "5    42\n",
      "dtype: int64\n"
     ]
    }
   ],
   "source": [
    "print(my_series)"
   ]
  },
  {
   "cell_type": "markdown",
   "id": "4d3ae450-a281-4c65-a029-07ccc575a818",
   "metadata": {},
   "source": [
    "-------------------------------------------------------------------------------------------------------------------------------"
   ]
  },
  {
   "cell_type": "markdown",
   "id": "a856cdf0-b8a3-4f02-a69e-a14f4a06d0ee",
   "metadata": {},
   "source": [
    "Q2. Create a variable of list type containing 10 elements in it, and apply pandas.Series function on the\n",
    "variable print it."
   ]
  },
  {
   "cell_type": "code",
   "execution_count": 9,
   "id": "58688e02-4123-444c-9756-d3e2c8db0e1b",
   "metadata": {},
   "outputs": [],
   "source": [
    "my_list = (range(0,100,10))"
   ]
  },
  {
   "cell_type": "code",
   "execution_count": 10,
   "id": "aa896e60-802f-40dc-a46d-25bc032b3179",
   "metadata": {},
   "outputs": [
    {
     "data": {
      "text/plain": [
       "[0, 10, 20, 30, 40, 50, 60, 70, 80, 90]"
      ]
     },
     "execution_count": 10,
     "metadata": {},
     "output_type": "execute_result"
    }
   ],
   "source": [
    "list(my_list)"
   ]
  },
  {
   "cell_type": "code",
   "execution_count": 11,
   "id": "542c55b7-5c76-43e8-9264-04bbb15c399e",
   "metadata": {},
   "outputs": [
    {
     "name": "stdout",
     "output_type": "stream",
     "text": [
      "0     0\n",
      "1    10\n",
      "2    20\n",
      "3    30\n",
      "4    40\n",
      "5    50\n",
      "6    60\n",
      "7    70\n",
      "8    80\n",
      "9    90\n",
      "dtype: int64\n"
     ]
    },
    {
     "data": {
      "text/plain": [
       "pandas.core.series.Series"
      ]
     },
     "execution_count": 11,
     "metadata": {},
     "output_type": "execute_result"
    }
   ],
   "source": [
    "l_series = pd.Series(my_list)\n",
    "\n",
    "##printing series\n",
    "print(l_series)\n",
    "\n",
    "##checking type of variable\n",
    "type(l_series)"
   ]
  },
  {
   "cell_type": "markdown",
   "id": "81e2bb05-ce90-4712-9bb7-486cd06a18ab",
   "metadata": {},
   "source": [
    "-------------------------------------------------------------------------------------------------------------------------------"
   ]
  },
  {
   "cell_type": "raw",
   "id": "363bf5a3-f390-446a-b01a-1b7313bf7749",
   "metadata": {},
   "source": [
    "Q3. Create a Pandas DataFrame that contains the following data:\n",
    "\n",
    "\n",
    "Name    Age    Gender\n",
    "Alice   25     Female\n",
    "Bob     30     Male \n",
    "Claire  27     Female\n",
    "\n",
    "Then, print the DataFrame.\n"
   ]
  },
  {
   "cell_type": "code",
   "execution_count": 13,
   "id": "169557eb-abf8-4559-aa65-03064dc62843",
   "metadata": {},
   "outputs": [],
   "source": [
    "data = {'Name' : ['Alice','Bob','Claire'],\n",
    "        'Age': [25, 30, 27],\n",
    "        'Gender': ['Female', 'Male', 'Female']}"
   ]
  },
  {
   "cell_type": "code",
   "execution_count": 14,
   "id": "a1bb9748-2759-4c90-9882-020538e7cee7",
   "metadata": {},
   "outputs": [],
   "source": [
    "df = pd.DataFrame(data)"
   ]
  },
  {
   "cell_type": "code",
   "execution_count": 16,
   "id": "3f7c3211-e9c6-42db-864d-718d4934bc8a",
   "metadata": {},
   "outputs": [
    {
     "data": {
      "text/html": [
       "<div>\n",
       "<style scoped>\n",
       "    .dataframe tbody tr th:only-of-type {\n",
       "        vertical-align: middle;\n",
       "    }\n",
       "\n",
       "    .dataframe tbody tr th {\n",
       "        vertical-align: top;\n",
       "    }\n",
       "\n",
       "    .dataframe thead th {\n",
       "        text-align: right;\n",
       "    }\n",
       "</style>\n",
       "<table border=\"1\" class=\"dataframe\">\n",
       "  <thead>\n",
       "    <tr style=\"text-align: right;\">\n",
       "      <th></th>\n",
       "      <th>Name</th>\n",
       "      <th>Age</th>\n",
       "      <th>Gender</th>\n",
       "    </tr>\n",
       "  </thead>\n",
       "  <tbody>\n",
       "    <tr>\n",
       "      <th>0</th>\n",
       "      <td>Alice</td>\n",
       "      <td>25</td>\n",
       "      <td>Female</td>\n",
       "    </tr>\n",
       "    <tr>\n",
       "      <th>1</th>\n",
       "      <td>Bob</td>\n",
       "      <td>30</td>\n",
       "      <td>Male</td>\n",
       "    </tr>\n",
       "    <tr>\n",
       "      <th>2</th>\n",
       "      <td>Claire</td>\n",
       "      <td>27</td>\n",
       "      <td>Female</td>\n",
       "    </tr>\n",
       "  </tbody>\n",
       "</table>\n",
       "</div>"
      ],
      "text/plain": [
       "     Name  Age  Gender\n",
       "0   Alice   25  Female\n",
       "1     Bob   30    Male\n",
       "2  Claire   27  Female"
      ]
     },
     "execution_count": 16,
     "metadata": {},
     "output_type": "execute_result"
    }
   ],
   "source": [
    "df"
   ]
  },
  {
   "cell_type": "markdown",
   "id": "add1d40b-2120-499b-8660-53409781c6f6",
   "metadata": {},
   "source": [
    "-------------------------------------------------------------------------------------------------------------------------------"
   ]
  },
  {
   "cell_type": "markdown",
   "id": "8a453492-212c-41b0-90e2-99320023d328",
   "metadata": {},
   "source": [
    "Q4. What is ‘DataFrame’ in pandas and how is it different from pandas.series? Explain with an example."
   ]
  },
  {
   "cell_type": "raw",
   "id": "8a10b3be-2620-4e0f-9f77-e25323e02fc2",
   "metadata": {},
   "source": [
    "Answer:\n",
    "\n",
    "a DataFrame is a two-dimensional labeled data structure, while a Series is a one-dimensional labeled array. \n",
    "A DataFrame can be thought of as a collection of Pandas Series, where each Series represents a single column of the DataFrame.\n",
    "\n",
    "\n",
    "\n",
    "Example of Dataframe is :\n",
    "    \n",
    "    \n",
    "    data = {'Name' : ['Alice','Bob','Claire'],\n",
    "        'Age': [25, 30, 27],\n",
    "        'Gender': ['Female', 'Male', 'Female']}\n",
    "    \n",
    "    \n",
    "    df = pd.DataFrame(data)\n",
    "    \n",
    "    df\n",
    "    \n",
    "    \n",
    "    \n",
    "    \n",
    "Example of series is:\n",
    "    \n",
    "    data = [25, 30, 35]\n",
    "    s = pd.Series(data)\n",
    "    print(s)"
   ]
  },
  {
   "cell_type": "markdown",
   "id": "29c87a0d-639c-46be-9f66-60b4c4009402",
   "metadata": {},
   "source": [
    "-------------------------------------------------------------------------------------------------------------------------------"
   ]
  },
  {
   "cell_type": "raw",
   "id": "d4b9c327-71cb-426d-8737-698e072a05a0",
   "metadata": {},
   "source": [
    "Q5. What are some common functions you can use to manipulate data in a Pandas DataFrame? Can\n",
    "you give an example of when you might use one of these functions?"
   ]
  },
  {
   "cell_type": "raw",
   "id": "a7b40b75-25c5-4345-9b46-d9b49ca2e755",
   "metadata": {},
   "source": [
    "Pandas provides a wide range of functions to manipulate data in a DataFrame. Here are some commonly used functions:\n",
    "\n",
    "\n",
    "1. head() and tail(): These functions allow you to preview the first or last n rows of a DataFrame. \n",
    "   For example, df.head(10) will display the first 10 rows of the DataFrame df, while df.tail(5) will display the last 5 rows.\n",
    "\n",
    "2. describe(): This function provides a statistical summary of the DataFrame, including count, mean, standard deviation,          minimum, maximum, and quartiles. \n",
    "   For example, df.describe() will provide a summary of the DataFrame df.\n",
    "\n",
    "3. groupby(): This function allows you to group the data in a DataFrame by one or more variables and apply a function to each      group.\n",
    "   For example, df.groupby('gender').mean() will group the data in the DataFrame df by the 'gender' column and calculate the      mean for each group.\n",
    "   \n",
    "4. sort_values(): This function allows you to sort the data in a DataFrame by one or more columns.\n",
    "   For example, df.sort_values('age') will sort the data in the DataFrame df by the 'age' column in ascending order.\n",
    "\n",
    "5. drop(): This function allows you to remove one or more columns or rows from a DataFrame.\n",
    "   For example, df.drop('gender', axis=1) will remove the 'gender' column from the DataFrame df.\n",
    "   \n",
    "6. fillna(): This function allows you to fill missing values in a DataFrame with a specified value or method.\n",
    "   For example, df.fillna(0) will fill all missing values in the DataFrame df with 0.   "
   ]
  },
  {
   "cell_type": "markdown",
   "id": "2cd93744-25ef-4473-b850-71b5d0e1d74a",
   "metadata": {},
   "source": [
    "-------------------------------------------------------------------------------------------------------------------------------"
   ]
  },
  {
   "cell_type": "raw",
   "id": "9cd9dc8f-542b-4fe6-938e-e2b736736db5",
   "metadata": {},
   "source": [
    "Q6. Which of the following is mutable in nature Series, DataFrame, Panel?"
   ]
  },
  {
   "cell_type": "raw",
   "id": "99f2f7eb-5e86-464f-b435-c8b907824309",
   "metadata": {},
   "source": [
    "Answer : Series and DataFrame is mutable in nature"
   ]
  },
  {
   "cell_type": "markdown",
   "id": "878707eb-4e3c-42e8-8f5a-794a809c2ccf",
   "metadata": {},
   "source": [
    "-------------------------------------------------------------------------------------------------------------------------------"
   ]
  },
  {
   "cell_type": "raw",
   "id": "06c6dd63-b869-46d2-8c2b-1893412ded6c",
   "metadata": {},
   "source": [
    "Q7. Create a DataFrame using multiple Series. Explain with an example."
   ]
  },
  {
   "cell_type": "code",
   "execution_count": 19,
   "id": "03ad51be-abce-42d8-997e-f7cf15d1874c",
   "metadata": {},
   "outputs": [
    {
     "name": "stdout",
     "output_type": "stream",
     "text": [
      "      Name  Age  Gender\n",
      "0  Shubham   29    Male\n",
      "1     Meet   30  Female\n",
      "2    Sapna   33  Female\n"
     ]
    }
   ],
   "source": [
    "# create three Pandas Series\n",
    "names = pd.Series(['Shubham', 'Meet', 'Sapna'])\n",
    "ages = pd.Series([29, 30, 33])\n",
    "genders = pd.Series(['Male', 'Female', 'Female'])\n",
    "\n",
    "# create a DataFrame using the Series\n",
    "df = pd.DataFrame({'Name': names, 'Age': ages, 'Gender': genders})\n",
    "\n",
    "# print the DataFrame\n",
    "print(df)"
   ]
  },
  {
   "cell_type": "raw",
   "id": "b84f207e-b1ed-4134-81e8-63ea31ce683e",
   "metadata": {},
   "source": [
    "we first created three Pandas Series: names, ages, and genders. \n",
    "We then used a dictionary to create a DataFrame, \n",
    "where each key is a column name and each value is a Pandas Series. Finally, we printed the resulting DataFrame."
   ]
  }
 ],
 "metadata": {
  "kernelspec": {
   "display_name": "Python 3 (ipykernel)",
   "language": "python",
   "name": "python3"
  },
  "language_info": {
   "codemirror_mode": {
    "name": "ipython",
    "version": 3
   },
   "file_extension": ".py",
   "mimetype": "text/x-python",
   "name": "python",
   "nbconvert_exporter": "python",
   "pygments_lexer": "ipython3",
   "version": "3.10.8"
  }
 },
 "nbformat": 4,
 "nbformat_minor": 5
}
